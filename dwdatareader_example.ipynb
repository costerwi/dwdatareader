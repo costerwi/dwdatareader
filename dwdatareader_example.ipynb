{
 "cells": [
  {
   "cell_type": "markdown",
   "metadata": {
    "id": "gi9NZer60aAw"
   },
   "source": [
    "# Example of [dwdatareader](https://pypi.org/project/dwdatareader/) inside a Jupyter notebook"
   ]
  },
  {
   "cell_type": "markdown",
   "metadata": {
    "id": "h_vuv0f36eW8"
   },
   "source": [
    "## Examples of reading data"
   ]
  },
  {
   "metadata": {
    "ExecuteTime": {
     "end_time": "2025-07-27T21:05:53.914630Z",
     "start_time": "2025-07-27T21:05:53.578410Z"
    }
   },
   "cell_type": "code",
   "source": [
    "import dwdatareader as dw\n",
    "print(dw.__version__, dw.get_version())"
   ],
   "outputs": [
    {
     "name": "stdout",
     "output_type": "stream",
     "text": [
      "1.0.0 5.0.0\n"
     ]
    }
   ],
   "execution_count": 1
  },
  {
   "cell_type": "markdown",
   "metadata": {
    "id": "UiZalcFRIrIZ"
   },
   "source": [
    "### Option 1: Read entire file into Pandas Dataframe\n",
    "Warning: May be *huge*"
   ]
  },
  {
   "metadata": {
    "ExecuteTime": {
     "end_time": "2025-07-27T21:05:53.967344Z",
     "start_time": "2025-07-27T21:05:53.924541Z"
    }
   },
   "cell_type": "code",
   "source": [
    "with dw.open_file('Example_Drive01.d7d') as d7d:\n",
    "    print(d7d.info)\n",
    "    channels = [channel for channel in d7d\n",
    "                if not 'CAN' in d7d[channel].channel_index] # workaround CAN bug\n",
    "    df = d7d.dataframe(channels) # all channels by default\n",
    "df"
   ],
   "outputs": [
    {
     "name": "stdout",
     "output_type": "stream",
     "text": [
      "100.0 Hz | 2003-10-09 21:27:46.812004+00:00 | 2003-10-09 21:27:46.812004+00:00 | 95.8 s\n"
     ]
    },
    {
     "data": {
      "text/plain": [
       "          GPSvel  Math 0  X absolute  Y absolute  Velocity  Direction  \\\n",
       "0.00   89.257812     0.0         NaN         NaN       NaN        NaN   \n",
       "0.01   89.263916     0.0         NaN         NaN       NaN        NaN   \n",
       "0.02   89.270020     0.0         NaN         NaN       NaN        NaN   \n",
       "0.03   89.282227     0.0         NaN         NaN       NaN        NaN   \n",
       "0.04   89.263916     0.0         NaN         NaN       NaN        NaN   \n",
       "...          ...     ...         ...         ...       ...        ...   \n",
       "95.75  -0.079346     0.0         NaN         NaN       NaN        NaN   \n",
       "95.76  -0.079346     0.0         NaN         NaN       NaN        NaN   \n",
       "95.77  -0.073242     0.0         NaN         NaN       NaN        NaN   \n",
       "95.78  -0.085449     0.0         NaN         NaN       NaN        NaN   \n",
       "95.79  -0.091553     0.0         NaN         NaN       NaN        NaN   \n",
       "\n",
       "       Used sattelites        CNT 0  \n",
       "0.00               NaN     0.248333  \n",
       "0.01               NaN     0.496389  \n",
       "0.02               NaN     0.744722  \n",
       "0.03               NaN     0.993056  \n",
       "0.04               NaN     1.241389  \n",
       "...                ...          ...  \n",
       "95.75              NaN  1891.475879  \n",
       "95.76              NaN  1891.475879  \n",
       "95.77              NaN  1891.475879  \n",
       "95.78              NaN  1891.475879  \n",
       "95.79              NaN  1891.475879  \n",
       "\n",
       "[11385 rows x 8 columns]"
      ],
      "text/html": [
       "<div>\n",
       "<style scoped>\n",
       "    .dataframe tbody tr th:only-of-type {\n",
       "        vertical-align: middle;\n",
       "    }\n",
       "\n",
       "    .dataframe tbody tr th {\n",
       "        vertical-align: top;\n",
       "    }\n",
       "\n",
       "    .dataframe thead th {\n",
       "        text-align: right;\n",
       "    }\n",
       "</style>\n",
       "<table border=\"1\" class=\"dataframe\">\n",
       "  <thead>\n",
       "    <tr style=\"text-align: right;\">\n",
       "      <th></th>\n",
       "      <th>GPSvel</th>\n",
       "      <th>Math 0</th>\n",
       "      <th>X absolute</th>\n",
       "      <th>Y absolute</th>\n",
       "      <th>Velocity</th>\n",
       "      <th>Direction</th>\n",
       "      <th>Used sattelites</th>\n",
       "      <th>CNT 0</th>\n",
       "    </tr>\n",
       "  </thead>\n",
       "  <tbody>\n",
       "    <tr>\n",
       "      <th>0.00</th>\n",
       "      <td>89.257812</td>\n",
       "      <td>0.0</td>\n",
       "      <td>NaN</td>\n",
       "      <td>NaN</td>\n",
       "      <td>NaN</td>\n",
       "      <td>NaN</td>\n",
       "      <td>NaN</td>\n",
       "      <td>0.248333</td>\n",
       "    </tr>\n",
       "    <tr>\n",
       "      <th>0.01</th>\n",
       "      <td>89.263916</td>\n",
       "      <td>0.0</td>\n",
       "      <td>NaN</td>\n",
       "      <td>NaN</td>\n",
       "      <td>NaN</td>\n",
       "      <td>NaN</td>\n",
       "      <td>NaN</td>\n",
       "      <td>0.496389</td>\n",
       "    </tr>\n",
       "    <tr>\n",
       "      <th>0.02</th>\n",
       "      <td>89.270020</td>\n",
       "      <td>0.0</td>\n",
       "      <td>NaN</td>\n",
       "      <td>NaN</td>\n",
       "      <td>NaN</td>\n",
       "      <td>NaN</td>\n",
       "      <td>NaN</td>\n",
       "      <td>0.744722</td>\n",
       "    </tr>\n",
       "    <tr>\n",
       "      <th>0.03</th>\n",
       "      <td>89.282227</td>\n",
       "      <td>0.0</td>\n",
       "      <td>NaN</td>\n",
       "      <td>NaN</td>\n",
       "      <td>NaN</td>\n",
       "      <td>NaN</td>\n",
       "      <td>NaN</td>\n",
       "      <td>0.993056</td>\n",
       "    </tr>\n",
       "    <tr>\n",
       "      <th>0.04</th>\n",
       "      <td>89.263916</td>\n",
       "      <td>0.0</td>\n",
       "      <td>NaN</td>\n",
       "      <td>NaN</td>\n",
       "      <td>NaN</td>\n",
       "      <td>NaN</td>\n",
       "      <td>NaN</td>\n",
       "      <td>1.241389</td>\n",
       "    </tr>\n",
       "    <tr>\n",
       "      <th>...</th>\n",
       "      <td>...</td>\n",
       "      <td>...</td>\n",
       "      <td>...</td>\n",
       "      <td>...</td>\n",
       "      <td>...</td>\n",
       "      <td>...</td>\n",
       "      <td>...</td>\n",
       "      <td>...</td>\n",
       "    </tr>\n",
       "    <tr>\n",
       "      <th>95.75</th>\n",
       "      <td>-0.079346</td>\n",
       "      <td>0.0</td>\n",
       "      <td>NaN</td>\n",
       "      <td>NaN</td>\n",
       "      <td>NaN</td>\n",
       "      <td>NaN</td>\n",
       "      <td>NaN</td>\n",
       "      <td>1891.475879</td>\n",
       "    </tr>\n",
       "    <tr>\n",
       "      <th>95.76</th>\n",
       "      <td>-0.079346</td>\n",
       "      <td>0.0</td>\n",
       "      <td>NaN</td>\n",
       "      <td>NaN</td>\n",
       "      <td>NaN</td>\n",
       "      <td>NaN</td>\n",
       "      <td>NaN</td>\n",
       "      <td>1891.475879</td>\n",
       "    </tr>\n",
       "    <tr>\n",
       "      <th>95.77</th>\n",
       "      <td>-0.073242</td>\n",
       "      <td>0.0</td>\n",
       "      <td>NaN</td>\n",
       "      <td>NaN</td>\n",
       "      <td>NaN</td>\n",
       "      <td>NaN</td>\n",
       "      <td>NaN</td>\n",
       "      <td>1891.475879</td>\n",
       "    </tr>\n",
       "    <tr>\n",
       "      <th>95.78</th>\n",
       "      <td>-0.085449</td>\n",
       "      <td>0.0</td>\n",
       "      <td>NaN</td>\n",
       "      <td>NaN</td>\n",
       "      <td>NaN</td>\n",
       "      <td>NaN</td>\n",
       "      <td>NaN</td>\n",
       "      <td>1891.475879</td>\n",
       "    </tr>\n",
       "    <tr>\n",
       "      <th>95.79</th>\n",
       "      <td>-0.091553</td>\n",
       "      <td>0.0</td>\n",
       "      <td>NaN</td>\n",
       "      <td>NaN</td>\n",
       "      <td>NaN</td>\n",
       "      <td>NaN</td>\n",
       "      <td>NaN</td>\n",
       "      <td>1891.475879</td>\n",
       "    </tr>\n",
       "  </tbody>\n",
       "</table>\n",
       "<p>11385 rows × 8 columns</p>\n",
       "</div>"
      ]
     },
     "execution_count": 2,
     "metadata": {},
     "output_type": "execute_result"
    }
   ],
   "execution_count": 2
  },
  {
   "cell_type": "markdown",
   "metadata": {},
   "source": [
    "The above dataframe includes uneven time intervals and a lot of NaN due to the different sampling rates for some channels.\n",
    "The following is one way to regularize the dataframe using the index from a single channel using Pandas mehods:"
   ]
  },
  {
   "cell_type": "code",
   "metadata": {
    "ExecuteTime": {
     "end_time": "2025-07-27T21:05:54.150620Z",
     "start_time": "2025-07-27T21:05:54.138458Z"
    }
   },
   "source": [
    "newIndex = df.index[df['GPSvel'].notna()]\n",
    "df2 = df.bfill().ffill().reindex(index=newIndex)\n",
    "df2"
   ],
   "outputs": [
    {
     "data": {
      "text/plain": [
       "          GPSvel  Math 0  X absolute  Y absolute   Velocity   Direction  \\\n",
       "0.00   89.257812     0.0    497.3444   2728.4121  85.179039  233.500000   \n",
       "0.01   89.263916     0.0    497.3444   2728.4121  85.179039  233.500000   \n",
       "0.02   89.270020     0.0    497.3444   2728.4121  85.179039  233.500000   \n",
       "0.03   89.282227     0.0    497.3444   2728.4121  85.179039  233.500000   \n",
       "0.04   89.263916     0.0    497.3444   2728.4121  85.179039  233.500000   \n",
       "...          ...     ...         ...         ...        ...         ...   \n",
       "95.75  -0.079346     0.0    497.7526   2728.7605   0.583380  204.199997   \n",
       "95.76  -0.079346     0.0    497.7526   2728.7605   0.583380  204.199997   \n",
       "95.77  -0.073242     0.0    497.7526   2728.7605   0.583380  204.199997   \n",
       "95.78  -0.085449     0.0    497.7526   2728.7605   0.583380  204.199997   \n",
       "95.79  -0.091553     0.0    497.7526   2728.7605   0.583380  204.199997   \n",
       "\n",
       "       Used sattelites        CNT 0  \n",
       "0.00               8.0     0.248333  \n",
       "0.01               8.0     0.496389  \n",
       "0.02               8.0     0.744722  \n",
       "0.03               8.0     0.993056  \n",
       "0.04               8.0     1.241389  \n",
       "...                ...          ...  \n",
       "95.75              8.0  1891.475879  \n",
       "95.76              8.0  1891.475879  \n",
       "95.77              8.0  1891.475879  \n",
       "95.78              8.0  1891.475879  \n",
       "95.79              8.0  1891.475879  \n",
       "\n",
       "[9580 rows x 8 columns]"
      ],
      "text/html": [
       "<div>\n",
       "<style scoped>\n",
       "    .dataframe tbody tr th:only-of-type {\n",
       "        vertical-align: middle;\n",
       "    }\n",
       "\n",
       "    .dataframe tbody tr th {\n",
       "        vertical-align: top;\n",
       "    }\n",
       "\n",
       "    .dataframe thead th {\n",
       "        text-align: right;\n",
       "    }\n",
       "</style>\n",
       "<table border=\"1\" class=\"dataframe\">\n",
       "  <thead>\n",
       "    <tr style=\"text-align: right;\">\n",
       "      <th></th>\n",
       "      <th>GPSvel</th>\n",
       "      <th>Math 0</th>\n",
       "      <th>X absolute</th>\n",
       "      <th>Y absolute</th>\n",
       "      <th>Velocity</th>\n",
       "      <th>Direction</th>\n",
       "      <th>Used sattelites</th>\n",
       "      <th>CNT 0</th>\n",
       "    </tr>\n",
       "  </thead>\n",
       "  <tbody>\n",
       "    <tr>\n",
       "      <th>0.00</th>\n",
       "      <td>89.257812</td>\n",
       "      <td>0.0</td>\n",
       "      <td>497.3444</td>\n",
       "      <td>2728.4121</td>\n",
       "      <td>85.179039</td>\n",
       "      <td>233.500000</td>\n",
       "      <td>8.0</td>\n",
       "      <td>0.248333</td>\n",
       "    </tr>\n",
       "    <tr>\n",
       "      <th>0.01</th>\n",
       "      <td>89.263916</td>\n",
       "      <td>0.0</td>\n",
       "      <td>497.3444</td>\n",
       "      <td>2728.4121</td>\n",
       "      <td>85.179039</td>\n",
       "      <td>233.500000</td>\n",
       "      <td>8.0</td>\n",
       "      <td>0.496389</td>\n",
       "    </tr>\n",
       "    <tr>\n",
       "      <th>0.02</th>\n",
       "      <td>89.270020</td>\n",
       "      <td>0.0</td>\n",
       "      <td>497.3444</td>\n",
       "      <td>2728.4121</td>\n",
       "      <td>85.179039</td>\n",
       "      <td>233.500000</td>\n",
       "      <td>8.0</td>\n",
       "      <td>0.744722</td>\n",
       "    </tr>\n",
       "    <tr>\n",
       "      <th>0.03</th>\n",
       "      <td>89.282227</td>\n",
       "      <td>0.0</td>\n",
       "      <td>497.3444</td>\n",
       "      <td>2728.4121</td>\n",
       "      <td>85.179039</td>\n",
       "      <td>233.500000</td>\n",
       "      <td>8.0</td>\n",
       "      <td>0.993056</td>\n",
       "    </tr>\n",
       "    <tr>\n",
       "      <th>0.04</th>\n",
       "      <td>89.263916</td>\n",
       "      <td>0.0</td>\n",
       "      <td>497.3444</td>\n",
       "      <td>2728.4121</td>\n",
       "      <td>85.179039</td>\n",
       "      <td>233.500000</td>\n",
       "      <td>8.0</td>\n",
       "      <td>1.241389</td>\n",
       "    </tr>\n",
       "    <tr>\n",
       "      <th>...</th>\n",
       "      <td>...</td>\n",
       "      <td>...</td>\n",
       "      <td>...</td>\n",
       "      <td>...</td>\n",
       "      <td>...</td>\n",
       "      <td>...</td>\n",
       "      <td>...</td>\n",
       "      <td>...</td>\n",
       "    </tr>\n",
       "    <tr>\n",
       "      <th>95.75</th>\n",
       "      <td>-0.079346</td>\n",
       "      <td>0.0</td>\n",
       "      <td>497.7526</td>\n",
       "      <td>2728.7605</td>\n",
       "      <td>0.583380</td>\n",
       "      <td>204.199997</td>\n",
       "      <td>8.0</td>\n",
       "      <td>1891.475879</td>\n",
       "    </tr>\n",
       "    <tr>\n",
       "      <th>95.76</th>\n",
       "      <td>-0.079346</td>\n",
       "      <td>0.0</td>\n",
       "      <td>497.7526</td>\n",
       "      <td>2728.7605</td>\n",
       "      <td>0.583380</td>\n",
       "      <td>204.199997</td>\n",
       "      <td>8.0</td>\n",
       "      <td>1891.475879</td>\n",
       "    </tr>\n",
       "    <tr>\n",
       "      <th>95.77</th>\n",
       "      <td>-0.073242</td>\n",
       "      <td>0.0</td>\n",
       "      <td>497.7526</td>\n",
       "      <td>2728.7605</td>\n",
       "      <td>0.583380</td>\n",
       "      <td>204.199997</td>\n",
       "      <td>8.0</td>\n",
       "      <td>1891.475879</td>\n",
       "    </tr>\n",
       "    <tr>\n",
       "      <th>95.78</th>\n",
       "      <td>-0.085449</td>\n",
       "      <td>0.0</td>\n",
       "      <td>497.7526</td>\n",
       "      <td>2728.7605</td>\n",
       "      <td>0.583380</td>\n",
       "      <td>204.199997</td>\n",
       "      <td>8.0</td>\n",
       "      <td>1891.475879</td>\n",
       "    </tr>\n",
       "    <tr>\n",
       "      <th>95.79</th>\n",
       "      <td>-0.091553</td>\n",
       "      <td>0.0</td>\n",
       "      <td>497.7526</td>\n",
       "      <td>2728.7605</td>\n",
       "      <td>0.583380</td>\n",
       "      <td>204.199997</td>\n",
       "      <td>8.0</td>\n",
       "      <td>1891.475879</td>\n",
       "    </tr>\n",
       "  </tbody>\n",
       "</table>\n",
       "<p>9580 rows × 8 columns</p>\n",
       "</div>"
      ]
     },
     "execution_count": 3,
     "metadata": {},
     "output_type": "execute_result"
    }
   ],
   "execution_count": 3
  },
  {
   "cell_type": "code",
   "metadata": {
    "colab": {
     "base_uri": "https://localhost:8080/",
     "height": 282
    },
    "id": "wqglSCwA1HOq",
    "outputId": "0d0e3a6a-3d4f-4ee8-d0a0-7b337704b28a",
    "ExecuteTime": {
     "end_time": "2025-07-27T21:05:54.583792Z",
     "start_time": "2025-07-27T21:05:54.217708Z"
    }
   },
   "source": [
    "# Plot a channel\n",
    "df['GPSvel'].plot()"
   ],
   "outputs": [
    {
     "data": {
      "text/plain": [
       "<Axes: >"
      ]
     },
     "execution_count": 4,
     "metadata": {},
     "output_type": "execute_result"
    },
    {
     "data": {
      "text/plain": [
       "<Figure size 640x480 with 1 Axes>"
      ],
      "image/png": "[encoded data removed]"
     },
     "metadata": {},
     "output_type": "display_data"
    }
   ],
   "execution_count": 4
  },
  {
   "cell_type": "markdown",
   "metadata": {
    "id": "ZliDhQ6OIdzF"
   },
   "source": [
    "### Option 2: Operate on chunks of a specific channel to minimize memory requirement"
   ]
  },
  {
   "metadata": {
    "ExecuteTime": {
     "end_time": "2025-07-27T21:05:54.637462Z",
     "start_time": "2025-07-27T21:05:54.619199Z"
    }
   },
   "cell_type": "code",
   "source": [
    "with dw.open_file('Example_Drive01.d7d') as d7d:\n",
    "    ch = d7d['GPSvel']\n",
    "    print('Channel:', ch)\n",
    "    print(ch.number_of_samples, 'total samples')\n",
    "    for ds in ch.series_generator(chunk_size=2000):\n",
    "        print(ds.index[0], 's,', len(ds), 'samples, mean velocity', ds.mean(), ch.unit)"
   ],
   "outputs": [
    {
     "name": "stdout",
     "output_type": "stream",
     "text": [
      "Channel: GPSvel (kph) v\n",
      "9580 total samples\n",
      "0.0 s, 2000 samples, mean velocity 71.3724578857422 kph\n",
      "20.0 s, 2000 samples, mean velocity 75.65996704101562 kph\n",
      "40.0 s, 2000 samples, mean velocity 76.49486999511718 kph\n",
      "60.0 s, 2000 samples, mean velocity 80.88096313476562 kph\n",
      "80.0 s, 1580 samples, mean velocity 45.3124150143394 kph\n"
     ]
    }
   ],
   "execution_count": 5
  },
  {
   "metadata": {
    "ExecuteTime": {
     "end_time": "2025-07-27T21:05:54.695462Z",
     "start_time": "2025-07-27T21:05:54.692543Z"
    }
   },
   "cell_type": "code",
   "source": "",
   "outputs": [],
   "execution_count": null
  }
 ],
 "metadata": {
  "colab": {
   "collapsed_sections": [],
   "name": "dwdatareader example.ipynb",
   "provenance": [],
   "toc_visible": true
  },
  "kernelspec": {
   "display_name": "Python 3 (ipykernel)",
   "language": "python",
   "name": "python3"
  },
  "language_info": {
   "codemirror_mode": {
    "name": "ipython",
    "version": 3
   },
   "file_extension": ".py",
   "mimetype": "text/x-python",
   "name": "python",
   "nbconvert_exporter": "python",
   "pygments_lexer": "ipython3",
   "version": "3.10.14"
  }
 },
 "nbformat": 4,
 "nbformat_minor": 4
}
